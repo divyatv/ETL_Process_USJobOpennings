{
 "cells": [
  {
   "cell_type": "markdown",
   "metadata": {},
   "source": [
    "## DATA Extraction Transformation Loading into Database"
   ]
  },
  {
   "cell_type": "markdown",
   "metadata": {},
   "source": [
    "## EXTRACTION"
   ]
  },
  {
   "cell_type": "code",
   "execution_count": null,
   "metadata": {},
   "outputs": [],
   "source": [
    "import os\n",
    "import pandas as pd"
   ]
  },
  {
   "cell_type": "code",
   "execution_count": 11,
   "metadata": {},
   "outputs": [],
   "source": [
    "# Create a reference the CSV file desired\n",
    "dicecsv = os.path.join(\"Resources\", \"Dice_US_jobs.csv\")\n",
    "\n",
    "# Read the CSV into a Pandas DataFrame\n",
    "dice_df = pd.read_csv(dicecsv,  encoding=\"ISO-8859-1\")\n"
   ]
  },
  {
   "cell_type": "code",
   "execution_count": 12,
   "metadata": {},
   "outputs": [
    {
     "data": {
      "text/html": [
       "<div>\n",
       "<style scoped>\n",
       "    .dataframe tbody tr th:only-of-type {\n",
       "        vertical-align: middle;\n",
       "    }\n",
       "\n",
       "    .dataframe tbody tr th {\n",
       "        vertical-align: top;\n",
       "    }\n",
       "\n",
       "    .dataframe thead th {\n",
       "        text-align: right;\n",
       "    }\n",
       "</style>\n",
       "<table border=\"1\" class=\"dataframe\">\n",
       "  <thead>\n",
       "    <tr style=\"text-align: right;\">\n",
       "      <th></th>\n",
       "      <th>advertiserurl</th>\n",
       "      <th>company</th>\n",
       "      <th>employmenttype_jobstatus</th>\n",
       "      <th>jobdescription</th>\n",
       "      <th>jobid</th>\n",
       "      <th>joblocation_address</th>\n",
       "      <th>jobtitle</th>\n",
       "      <th>postdate</th>\n",
       "      <th>shift</th>\n",
       "      <th>site_name</th>\n",
       "      <th>skills</th>\n",
       "      <th>uniq_id</th>\n",
       "    </tr>\n",
       "  </thead>\n",
       "  <tbody>\n",
       "    <tr>\n",
       "      <th>0</th>\n",
       "      <td>https://www.dice.com/jobs/detail/AUTOMATION-TE...</td>\n",
       "      <td>Digital Intelligence Systems, LLC</td>\n",
       "      <td>C2H Corp-To-Corp, C2H Independent, C2H W2, 3 M...</td>\n",
       "      <td>Looking for Selenium engineers...must have sol...</td>\n",
       "      <td>Dice Id : 10110693</td>\n",
       "      <td>Atlanta, GA</td>\n",
       "      <td>AUTOMATION TEST ENGINEER</td>\n",
       "      <td>1 hour ago</td>\n",
       "      <td>Telecommuting not available|Travel not required</td>\n",
       "      <td>NaN</td>\n",
       "      <td>SEE BELOW</td>\n",
       "      <td>418ff92580b270ef4e7c14f0ddfc36b4</td>\n",
       "    </tr>\n",
       "    <tr>\n",
       "      <th>1</th>\n",
       "      <td>https://www.dice.com/jobs/detail/Information-S...</td>\n",
       "      <td>University of Chicago/IT Services</td>\n",
       "      <td>Full Time</td>\n",
       "      <td>The University of Chicago has a rapidly growin...</td>\n",
       "      <td>Dice Id : 10114469</td>\n",
       "      <td>Chicago, IL</td>\n",
       "      <td>Information Security Engineer</td>\n",
       "      <td>1 week ago</td>\n",
       "      <td>Telecommuting not available|Travel not required</td>\n",
       "      <td>NaN</td>\n",
       "      <td>linux/unix, network monitoring, incident respo...</td>\n",
       "      <td>8aec88cba08d53da65ab99cf20f6f9d9</td>\n",
       "    </tr>\n",
       "    <tr>\n",
       "      <th>2</th>\n",
       "      <td>https://www.dice.com/jobs/detail/Business-Solu...</td>\n",
       "      <td>Galaxy Systems, Inc.</td>\n",
       "      <td>Full Time</td>\n",
       "      <td>GalaxE.SolutionsEvery day, our solutions affec...</td>\n",
       "      <td>Dice Id : CXGALXYS</td>\n",
       "      <td>Schaumburg, IL</td>\n",
       "      <td>Business Solutions Architect</td>\n",
       "      <td>2 weeks ago</td>\n",
       "      <td>Telecommuting not available|Travel not required</td>\n",
       "      <td>NaN</td>\n",
       "      <td>Enterprise Solutions Architecture, business in...</td>\n",
       "      <td>46baa1f69ac07779274bcd90b85d9a72</td>\n",
       "    </tr>\n",
       "  </tbody>\n",
       "</table>\n",
       "</div>"
      ],
      "text/plain": [
       "                                       advertiserurl  \\\n",
       "0  https://www.dice.com/jobs/detail/AUTOMATION-TE...   \n",
       "1  https://www.dice.com/jobs/detail/Information-S...   \n",
       "2  https://www.dice.com/jobs/detail/Business-Solu...   \n",
       "\n",
       "                             company  \\\n",
       "0  Digital Intelligence Systems, LLC   \n",
       "1  University of Chicago/IT Services   \n",
       "2               Galaxy Systems, Inc.   \n",
       "\n",
       "                            employmenttype_jobstatus  \\\n",
       "0  C2H Corp-To-Corp, C2H Independent, C2H W2, 3 M...   \n",
       "1                                          Full Time   \n",
       "2                                          Full Time   \n",
       "\n",
       "                                      jobdescription               jobid  \\\n",
       "0  Looking for Selenium engineers...must have sol...  Dice Id : 10110693   \n",
       "1  The University of Chicago has a rapidly growin...  Dice Id : 10114469   \n",
       "2  GalaxE.SolutionsEvery day, our solutions affec...  Dice Id : CXGALXYS   \n",
       "\n",
       "  joblocation_address                       jobtitle     postdate  \\\n",
       "0         Atlanta, GA       AUTOMATION TEST ENGINEER   1 hour ago   \n",
       "1         Chicago, IL  Information Security Engineer   1 week ago   \n",
       "2      Schaumburg, IL   Business Solutions Architect  2 weeks ago   \n",
       "\n",
       "                                             shift site_name  \\\n",
       "0  Telecommuting not available|Travel not required       NaN   \n",
       "1  Telecommuting not available|Travel not required       NaN   \n",
       "2  Telecommuting not available|Travel not required       NaN   \n",
       "\n",
       "                                              skills  \\\n",
       "0                                          SEE BELOW   \n",
       "1  linux/unix, network monitoring, incident respo...   \n",
       "2  Enterprise Solutions Architecture, business in...   \n",
       "\n",
       "                            uniq_id  \n",
       "0  418ff92580b270ef4e7c14f0ddfc36b4  \n",
       "1  8aec88cba08d53da65ab99cf20f6f9d9  \n",
       "2  46baa1f69ac07779274bcd90b85d9a72  "
      ]
     },
     "execution_count": 12,
     "metadata": {},
     "output_type": "execute_result"
    }
   ],
   "source": [
    "dice_df.head(3)"
   ]
  },
  {
   "cell_type": "code",
   "execution_count": 13,
   "metadata": {},
   "outputs": [
    {
     "data": {
      "text/plain": [
       "Index(['advertiserurl', 'company', 'employmenttype_jobstatus',\n",
       "       'jobdescription', 'jobid', 'joblocation_address', 'jobtitle',\n",
       "       'postdate', 'shift', 'site_name', 'skills', 'uniq_id'],\n",
       "      dtype='object')"
      ]
     },
     "execution_count": 13,
     "metadata": {},
     "output_type": "execute_result"
    }
   ],
   "source": [
    "### Check the columns we want to use\n",
    "dice_df.columns"
   ]
  },
  {
   "cell_type": "code",
   "execution_count": 7,
   "metadata": {
    "scrolled": true
   },
   "outputs": [],
   "source": []
  },
  {
   "cell_type": "code",
   "execution_count": 8,
   "metadata": {},
   "outputs": [],
   "source": []
  },
  {
   "cell_type": "code",
   "execution_count": null,
   "metadata": {},
   "outputs": [],
   "source": []
  },
  {
   "cell_type": "markdown",
   "metadata": {},
   "source": [
    "## Transform monster DataFrame"
   ]
  },
  {
   "cell_type": "code",
   "execution_count": null,
   "metadata": {},
   "outputs": [],
   "source": []
  },
  {
   "cell_type": "markdown",
   "metadata": {},
   "source": [
    "## Transform dice DataFrame"
   ]
  },
  {
   "cell_type": "code",
   "execution_count": null,
   "metadata": {},
   "outputs": [],
   "source": []
  },
  {
   "cell_type": "markdown",
   "metadata": {},
   "source": [
    "## Create database connection"
   ]
  },
  {
   "cell_type": "code",
   "execution_count": null,
   "metadata": {},
   "outputs": [],
   "source": []
  },
  {
   "cell_type": "markdown",
   "metadata": {},
   "source": [
    "## Load data frame into database"
   ]
  },
  {
   "cell_type": "code",
   "execution_count": null,
   "metadata": {},
   "outputs": [],
   "source": []
  }
 ],
 "metadata": {
  "kernelspec": {
   "display_name": "Python 3",
   "language": "python",
   "name": "python3"
  },
  "language_info": {
   "codemirror_mode": {
    "name": "ipython",
    "version": 3
   },
   "file_extension": ".py",
   "mimetype": "text/x-python",
   "name": "python",
   "nbconvert_exporter": "python",
   "pygments_lexer": "ipython3",
   "version": "3.7.3"
  }
 },
 "nbformat": 4,
 "nbformat_minor": 2
}
